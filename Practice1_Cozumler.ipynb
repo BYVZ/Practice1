{
 "cells": [
  {
   "cell_type": "markdown",
   "metadata": {},
   "source": [
    "## Temel konular"
   ]
  },
  {
   "cell_type": "code",
   "execution_count": null,
   "metadata": {},
   "outputs": [],
   "source": []
  },
  {
   "cell_type": "markdown",
   "metadata": {},
   "source": [
    "1. Su kodu calistirin: print(5 + 8)"
   ]
  },
  {
   "cell_type": "code",
   "execution_count": 131,
   "metadata": {},
   "outputs": [
    {
     "name": "stdout",
     "output_type": "stream",
     "text": [
      "21\n"
     ]
    }
   ],
   "source": [
    "# ornek:\n",
    "print(3 * 7)"
   ]
  },
  {
   "cell_type": "code",
   "execution_count": 132,
   "metadata": {},
   "outputs": [
    {
     "name": "stdout",
     "output_type": "stream",
     "text": [
      "13\n"
     ]
    }
   ],
   "source": [
    "# Kodu buraya yaziniz:\n",
    "print(5 + 8)"
   ]
  },
  {
   "cell_type": "markdown",
   "metadata": {},
   "source": [
    "2. Asagidaki kod hucresine \"#\" isaretini kullanarak bir not ekleyin:"
   ]
  },
  {
   "cell_type": "code",
   "execution_count": 191,
   "metadata": {},
   "outputs": [],
   "source": [
    "# bu bir nottur"
   ]
  },
  {
   "cell_type": "markdown",
   "metadata": {},
   "source": [
    "3. Matematik islemleri: rastgele ikiser sayi secip, + - * / % ** islemlerini uygulayiniz:"
   ]
  },
  {
   "cell_type": "code",
   "execution_count": 9,
   "metadata": {},
   "outputs": [
    {
     "name": "stdout",
     "output_type": "stream",
     "text": [
      "14\n",
      "1\n",
      "20\n",
      "6.0\n",
      "3\n",
      "25\n"
     ]
    }
   ],
   "source": [
    "# toplama \n",
    "print(7 + 7)\n",
    "\n",
    "# cikarma\n",
    "print(6 - 5)\n",
    "\n",
    "# carpma \n",
    "print(4 * 5)\n",
    "\n",
    "#bolme \n",
    "print(12 / 2)\n",
    "\n",
    "#mod alma \n",
    "print(10 % 7)\n",
    "\n",
    "#ustel fonk\n",
    "print(5 ** 2)"
   ]
  },
  {
   "cell_type": "markdown",
   "metadata": {},
   "source": [
    "4. Degisken: x=10 seklinde bir degisken olusturun, ve bu degiskeni print ile yazdiriniz:"
   ]
  },
  {
   "cell_type": "code",
   "execution_count": 12,
   "metadata": {},
   "outputs": [],
   "source": [
    "# degisken olusturun:\n",
    "x = 10\n",
    "\n",
    "# yazdirin:\n",
    "print(x)\n"
   ]
  },
  {
   "cell_type": "markdown",
   "metadata": {},
   "source": [
    "5. basit bir problem: 50cm uzunlugunda bir fidan aldiniz. haftada 10 cm uzamaktadir. 4 hafta sonra 90cm olacagini degisken kullanarak gosteriniz:"
   ]
  },
  {
   "cell_type": "code",
   "execution_count": 192,
   "metadata": {},
   "outputs": [
    {
     "name": "stdout",
     "output_type": "stream",
     "text": [
      "90\n"
     ]
    }
   ],
   "source": [
    "# fidanin ilk boyunu bir degiskene atayiniz:\n",
    "boy = 50\n",
    "\n",
    "# fidanin haftalik uzama miktarini bir degiskene atayiniz:\n",
    "artis = 10\n",
    "\n",
    "# son_boy adli bir degisken olusturup, degiskenleri kullanarak hesaplayiniz:\n",
    "son_boy = boy + artis*4\n",
    "\n",
    "# sonucu ifade eden degiskeni yazdiriniz:\n",
    "print(son_boy)"
   ]
  },
  {
   "cell_type": "markdown",
   "metadata": {},
   "source": [
    "6. integer, float, string ve boolean tipleri: verilen degiskenlerin tipleri type() ile belirleyip, print kullanarak yazdiriniz:"
   ]
  },
  {
   "cell_type": "code",
   "execution_count": 22,
   "metadata": {},
   "outputs": [
    {
     "name": "stdout",
     "output_type": "stream",
     "text": [
      "<class 'int'>\n",
      "<class 'float'>\n",
      "<class 'str'>\n",
      "<class 'bool'>\n"
     ]
    }
   ],
   "source": [
    "x = 200\n",
    "print(type(x))\n",
    "\n",
    "y = 2.2\n",
    "print(type(y))\n",
    "\n",
    "cumle = \"Alaninda en iyilerinden ol\"\n",
    "print(type(cumle))\n",
    "\n",
    "sonuc = True\n",
    "print(type(sonuc))"
   ]
  },
  {
   "cell_type": "markdown",
   "metadata": {},
   "source": [
    "7. integer ile float'i carparsak sonucun tipi ne olur?"
   ]
  },
  {
   "cell_type": "code",
   "execution_count": 24,
   "metadata": {},
   "outputs": [
    {
     "name": "stdout",
     "output_type": "stream",
     "text": [
      "<class 'float'>\n"
     ]
    }
   ],
   "source": [
    "# a isimli bir integer degisken olusturunuz (herhangi bir sayi olabilir)\n",
    "a = 20\n",
    "\n",
    "# b isimli bir float degisken olusturunuz\n",
    "b = 2.2\n",
    "\n",
    "# bunlari carpip c isimli bir degiskene atayiniz\n",
    "c = a * b\n",
    "\n",
    "# sonucun (c'nin) tipini type() fonksiyonu ile belirleyip print kullanarak yazdirirniz\n",
    "print(type(c))"
   ]
  },
  {
   "cell_type": "markdown",
   "metadata": {},
   "source": [
    "8. Iki string toplanabilir mi?"
   ]
  },
  {
   "cell_type": "code",
   "execution_count": 31,
   "metadata": {},
   "outputs": [
    {
     "name": "stdout",
     "output_type": "stream",
     "text": [
      "mavikirmizi\n"
     ]
    }
   ],
   "source": [
    "# 'kelime1' isimli bir string degisken olusturunuz (herhangi bir sey yazabilirsiniz)\n",
    "kelime1 = 'mavi'\n",
    "\n",
    "# 'kelime2' isimli bir string degisken olusturunuz\n",
    "kelime2 = 'kirmizi'\n",
    "\n",
    "# bu iki string degiskeni toplayiniz ve 'kelimeler' adli bir degiskene atayiniz\n",
    "kelimeler = kelime1 + kelime2\n",
    "\n",
    "# 'kelimeler' adli degiskeni print ile yazdiriniz\n",
    "print(kelimeler)"
   ]
  },
  {
   "cell_type": "markdown",
   "metadata": {},
   "source": [
    "9. bir integeri string olarak okumak:"
   ]
  },
  {
   "cell_type": "code",
   "execution_count": 33,
   "metadata": {},
   "outputs": [
    {
     "name": "stdout",
     "output_type": "stream",
     "text": [
      "<class 'int'>\n",
      "<class 'str'>\n"
     ]
    }
   ],
   "source": [
    "x = 50\n",
    "# verilen integer degiskeninin tipini yazdiriniz\n",
    "print(type(x))\n",
    "\n",
    "# x degiskenine str() fonksiyonunu uygulayip ('cast' edip), veri tipini tekrar yazdiriniz\n",
    "print(type(str(x)))"
   ]
  },
  {
   "cell_type": "markdown",
   "metadata": {},
   "source": [
    "10. string, integer ve float beraber kullanimi:"
   ]
  },
  {
   "cell_type": "code",
   "execution_count": 30,
   "metadata": {},
   "outputs": [
    {
     "name": "stdout",
     "output_type": "stream",
     "text": [
      "Cocugun boyu 120 ve kilosu 35'tir\n"
     ]
    }
   ],
   "source": [
    "boy = 120\n",
    "kilo = 35\n",
    "\n",
    "# verilen boy ve kilo degiskenlerini kullanarak \"Cocugun boyu 120 ve kilosu 35'tir\" cumlesini yazdiriniz:\n",
    "print(\"Cocugun boyu \" + str(120) + \" ve kilosu \" + str(35) + \"'tir\")"
   ]
  },
  {
   "cell_type": "markdown",
   "metadata": {},
   "source": [
    "11. string i floata cevirmek:"
   ]
  },
  {
   "cell_type": "code",
   "execution_count": 34,
   "metadata": {},
   "outputs": [],
   "source": [
    "not_ortalamam_string = \"2.80\"\n",
    "\n",
    "# verilen degiskeni float tipine cevirip \"not_ortalamam_float\" ismiyle kaydediniz\n",
    "not_ortalamam_float = float(not_ortalamam_string)"
   ]
  },
  {
   "cell_type": "markdown",
   "metadata": {},
   "source": [
    "12. Asagidaki 3 hucredeki hatalari duzeltiniz:"
   ]
  },
  {
   "cell_type": "code",
   "execution_count": 35,
   "metadata": {},
   "outputs": [
    {
     "data": {
      "text/plain": [
       "'String ifadelere boyle 3 integer ekliyoruz'"
      ]
     },
     "execution_count": 35,
     "metadata": {},
     "output_type": "execute_result"
    }
   ],
   "source": [
    "\"String ifadelere boyle \" + str(3) + \" integer ekliyoruz\""
   ]
  },
  {
   "cell_type": "code",
   "execution_count": 39,
   "metadata": {},
   "outputs": [
    {
     "data": {
      "text/plain": [
       "'Kursta sinifa girerken Hej! Hej!  diyoruz'"
      ]
     },
     "execution_count": 39,
     "metadata": {},
     "output_type": "execute_result"
    }
   ],
   "source": [
    "\"Kursta sinifa girerken \" + (\"Hej! \"*2) + \" diyoruz\""
   ]
  },
  {
   "cell_type": "code",
   "execution_count": 41,
   "metadata": {},
   "outputs": [
    {
     "data": {
      "text/plain": [
       "'Sorunun cevabi: 5'"
      ]
     },
     "execution_count": 41,
     "metadata": {},
     "output_type": "execute_result"
    }
   ],
   "source": [
    "\"Sorunun cevabi: \" + str(5)"
   ]
  },
  {
   "cell_type": "markdown",
   "metadata": {},
   "source": [
    "13. True ile False toplanabilir mi? sizce neden."
   ]
  },
  {
   "cell_type": "code",
   "execution_count": 84,
   "metadata": {},
   "outputs": [
    {
     "data": {
      "text/plain": [
       "1"
      ]
     },
     "execution_count": 84,
     "metadata": {},
     "output_type": "execute_result"
    }
   ],
   "source": [
    "True + False"
   ]
  },
  {
   "cell_type": "markdown",
   "metadata": {},
   "source": [
    "14. Asagidaki gibi bos hucre ekleyerek bu hucrelerde \"Temel Konular\" ile ilgili karalama, test etme, uygulama, deneme-yanilma, farkli kombinasyonlari denemeler yapiniz:"
   ]
  },
  {
   "cell_type": "code",
   "execution_count": null,
   "metadata": {},
   "outputs": [],
   "source": []
  },
  {
   "cell_type": "code",
   "execution_count": null,
   "metadata": {},
   "outputs": [],
   "source": []
  },
  {
   "cell_type": "code",
   "execution_count": null,
   "metadata": {},
   "outputs": [],
   "source": []
  },
  {
   "cell_type": "markdown",
   "metadata": {},
   "source": [
    "## Listeler"
   ]
  },
  {
   "cell_type": "markdown",
   "metadata": {},
   "source": [
    "15. verilen degiskenleri kullanarak bir python listesi olusturunuz"
   ]
  },
  {
   "cell_type": "code",
   "execution_count": 50,
   "metadata": {},
   "outputs": [
    {
     "name": "stdout",
     "output_type": "stream",
     "text": [
      "[10.2, 8.5, 12.4, 7.1, 6.4]\n"
     ]
    }
   ],
   "source": [
    "kor = 10.2\n",
    "mut = 8.5\n",
    "sln = 12.4\n",
    "o1 = 7.1\n",
    "o2 = 6.4\n",
    "\n",
    "# \"alanlar\" adli bir liste olusturup, print ile bu listeyi yazdiriniz\n",
    "alanlar = [kor, mut, sln, o1, o2]\n",
    "print(alanlar)"
   ]
  },
  {
   "cell_type": "code",
   "execution_count": 194,
   "metadata": {},
   "outputs": [
    {
     "name": "stdout",
     "output_type": "stream",
     "text": [
      "['koridor', 10.2, 'mutfak', 8.5, 'salon', 12.4, 'oda1', 7.1, 'oda2', 6.4]\n"
     ]
    }
   ],
   "source": [
    "# 'alanlar' adli bir listeye string halide \"koridor\", \"mutfak\", \"salon\", \"oda1\", \"oda2\" degiskenlerini ekleyiniz. \n",
    "# (isim ve m2 sayisi pespese gelecek sekilde)\n",
    "\n",
    "alanlar = [\"koridor\", kor, \"mutfak\", mut, \"salon\", sln, \"oda1\", o1, \"oda2\", o2]\n",
    "\n",
    "# listenin guncel halini yazdiriniz\n",
    "print(alanlar)"
   ]
  },
  {
   "cell_type": "markdown",
   "metadata": {},
   "source": [
    "16. Liste icinde listeler:"
   ]
  },
  {
   "cell_type": "code",
   "execution_count": 53,
   "metadata": {
    "scrolled": true
   },
   "outputs": [
    {
     "name": "stdout",
     "output_type": "stream",
     "text": [
      "[['koridor', 10.2], ['mutfak', 8.5], ['salon', 12.4], ['oda1', 7.1], ['oda2', 6.4]]\n",
      "<class 'list'>\n"
     ]
    }
   ],
   "source": [
    "ev = [[\"koridor\", kor], [\"mutfak\", mut], [\"salon\", sln], [\"oda1\", o1], [\"oda2\", o2]]\n",
    "\n",
    "# ev isimli degiskeni yazdiriniz\n",
    "print(ev)\n",
    "\n",
    "# ev degiskeninin veri tipini yazdiriniz\n",
    "print(type(ev))"
   ]
  },
  {
   "cell_type": "markdown",
   "metadata": {},
   "source": [
    "17. Listeler ve indeksleri ile elemanlarina ulasmak:"
   ]
  },
  {
   "cell_type": "code",
   "execution_count": 55,
   "metadata": {},
   "outputs": [
    {
     "name": "stdout",
     "output_type": "stream",
     "text": [
      "10.2\n",
      "6.4\n",
      "12.4\n"
     ]
    }
   ],
   "source": [
    "alanlar = [\"koridor\", kor, \"mutfak\", mut, \"salon\", sln, \"oda1\", o1, \"oda2\", o2]\n",
    "\n",
    "# alanlar listesinin 2. elemanini yazdiriniz (indeksi 2 olan degil)\n",
    "print(alanlar[1])\n",
    "\n",
    "# alanlar listesinin son elemanini yazdiriniz\n",
    "print(alanlar[-1])\n",
    "\n",
    "# alanlar listesinden salonun alanini yazdiriniz\n",
    "print(alanlar[5])"
   ]
  },
  {
   "cell_type": "markdown",
   "metadata": {},
   "source": [
    "18. liste elemanlari ve islemler"
   ]
  },
  {
   "cell_type": "code",
   "execution_count": 59,
   "metadata": {},
   "outputs": [
    {
     "name": "stdout",
     "output_type": "stream",
     "text": [
      "20.9\n"
     ]
    }
   ],
   "source": [
    "# mutfak ve salonun toplam alanini bulunuz: yemek_ve_misafir adli degiskene atayiniz\n",
    "yemek_ve_misafir = alanlar[3] + alanlar[5]\n",
    "\n",
    "# yemek_ve_misafir degiskenini yazdiriniz\n",
    "print(yemek_ve_misafir)"
   ]
  },
  {
   "cell_type": "markdown",
   "metadata": {},
   "source": [
    "19. Slice:"
   ]
  },
  {
   "cell_type": "code",
   "execution_count": 67,
   "metadata": {},
   "outputs": [
    {
     "name": "stdout",
     "output_type": "stream",
     "text": [
      "['mutfak', 8.5]\n",
      "['koridor', 10.2, 'mutfak', 8.5, 'salon', 12.4]\n",
      "['oda1', 7.1, 'oda2', 6.4]\n"
     ]
    }
   ],
   "source": [
    "mutfak = alanlar[2:4]\n",
    "print(mutfak)\n",
    "\n",
    "# \"alanlar\" listesinin ilk 6 elemanini ustteki gibi normal slice ile seciniz ve \"alt_kat\" adli bir degiskene atayiniz\n",
    "alt_kat = alanlar[:6]\n",
    "\n",
    "# ayni sekilde son 4 elemani ustteki gibi normal slice ile secip \"ust_kat\" 'a atayiniz\n",
    "ust_kat = alanlar[-4:]\n",
    "\n",
    "# alt_kat ve ust_kat degiskenlerini yazdiriniz\n",
    "print(alt_kat)\n",
    "print(ust_kat)"
   ]
  },
  {
   "cell_type": "markdown",
   "metadata": {},
   "source": [
    "20. ayni islemi alternatif slice ile:"
   ]
  },
  {
   "cell_type": "code",
   "execution_count": 69,
   "metadata": {},
   "outputs": [
    {
     "name": "stdout",
     "output_type": "stream",
     "text": [
      "['koridor', 10.2]\n",
      "['koridor', 10.2, 'mutfak', 8.5, 'salon', 12.4]\n",
      "['oda1', 7.1, 'oda2', 6.4]\n"
     ]
    }
   ],
   "source": [
    "koridor = alanlar[:2]\n",
    "print(koridor)\n",
    "\n",
    "# \"alanlar\" listesinin ilk 6 elemanini ustteki gibi alternatif slice ile seciniz ve \"alt_kat\" adli bir degiskene atayiniz\n",
    "alt_kat = alanlar[:6]\n",
    "\n",
    "# ayni sekilde son 4 elemani alternarif slice ile secip \"ust_kat\" 'a atayiniz (ipucu: negatif indeks)\n",
    "ust_kat = alanlar[-4:]\n",
    "\n",
    "# alt_kat ve ust_kat degiskenlerini yazdiriniz\n",
    "print(alt_kat)\n",
    "print(ust_kat)"
   ]
  },
  {
   "cell_type": "markdown",
   "metadata": {},
   "source": [
    "21. Cift indeks:"
   ]
  },
  {
   "cell_type": "code",
   "execution_count": 72,
   "metadata": {},
   "outputs": [
    {
     "name": "stdout",
     "output_type": "stream",
     "text": [
      "6.4\n"
     ]
    }
   ],
   "source": [
    "ev = [[\"koridor\", kor], [\"mutfak\", mut], [\"salon\", sln], [\"oda1\", o1], [\"oda2\", o2]]\n",
    "\n",
    "# ev listesine ev[-1][1] seklinde cift indis uygulanirsa sonuc ne gelir?\n",
    "print(ev[-1][1])"
   ]
  },
  {
   "cell_type": "markdown",
   "metadata": {},
   "source": [
    "22. listelerde degisiklik:"
   ]
  },
  {
   "cell_type": "code",
   "execution_count": 75,
   "metadata": {},
   "outputs": [
    {
     "name": "stdout",
     "output_type": "stream",
     "text": [
      "['koridor', 10.2, 'mutfak', 8.5, 'salon', 12.4, 'oda1', 7.1, 'cocuk_odasi', 5.1]\n"
     ]
    }
   ],
   "source": [
    "alanlar = [\"koridor\", kor, \"mutfak\", mut, \"salon\", sln, \"oda1\", o1, \"oda2\", o2]\n",
    "\n",
    "# oda2 nin alanini 5.1 ile guncelleyiniz\n",
    "alanlar[-1] = 5.1\n",
    "\n",
    "# oda2 nin adini \"cocuk_odasi\" seklinde degistiriniz\n",
    "alanlar[-2] = \"cocuk_odasi\"\n",
    "\n",
    "# alanlar listesini yazdiriniz\n",
    "print(alanlar)"
   ]
  },
  {
   "cell_type": "markdown",
   "metadata": {},
   "source": [
    "23. Listeye liste ekleme:"
   ]
  },
  {
   "cell_type": "code",
   "execution_count": 76,
   "metadata": {},
   "outputs": [
    {
     "name": "stdout",
     "output_type": "stream",
     "text": [
      "['koridor', 10.2, 'mutfak', 8.5, 'salon', 12.4, 'oda1', 7.1, 'cocuk_odasi', 5.1]\n",
      "['koridor', 10.2, 'mutfak', 8.5, 'salon', 12.4, 'oda1', 7.1, 'cocuk_odasi', 5.1, 'yuzme_havuzu', 24.3]\n",
      "['koridor', 10.2, 'mutfak', 8.5, 'salon', 12.4, 'oda1', 7.1, 'cocuk_odasi', 5.1, 'yuzme_havuzu', 24.3, 'garaj', 15.4]\n"
     ]
    }
   ],
   "source": [
    "[\"yuzme_havuzu\", 24.3]\n",
    "\n",
    "# alanlar listesini ustteki 2 elemanli listeyi + ile ekleyip alanlar_1 adi ile kaydediniz\n",
    "alanlar_1 = alanlar + [\"yuzme_havuzu\", 24.3]\n",
    "\n",
    "# alanlar_1 listesine 15.4 m2 buyuklugunde bir garaj ekleyip, alanlar_2 adi ile kaydediniz\n",
    "alanlar_2 = alanlar_1 + ['garaj', 15.4]\n",
    "\n",
    "# uc listeyi de yazdiriniz\n",
    "print(alanlar)\n",
    "print(alanlar_1)\n",
    "print(alanlar_2)"
   ]
  },
  {
   "cell_type": "markdown",
   "metadata": {},
   "source": [
    "24. liste elemani silmek"
   ]
  },
  {
   "cell_type": "code",
   "execution_count": 78,
   "metadata": {},
   "outputs": [
    {
     "name": "stdout",
     "output_type": "stream",
     "text": [
      "['koridor', 10.2, 'mutfak', 8.5, 'salon', 12.4, 'oda1', 7.1, 'cocuk_odasi', 5.1, 24.3, 15.4]\n"
     ]
    }
   ],
   "source": [
    "alanlar_2 = ['koridor', 10.2, 'mutfak', 8.5, 'salon', 12.4, 'oda1', 7.1, 'cocuk_odasi', 5.1, 'yuzme_havuzu', 24.3, 'garaj', 15.4]\n",
    "\n",
    "# alanlar_2 listesinden yuzme_havuzu ve 24.3 degerini siliniz\n",
    "del(alanlar_2[10])\n",
    "del(alanlar_2[11])\n",
    "\n",
    "# alanlar_2 dizisini tekrar yazdiriniz\n",
    "print(alanlar_2)"
   ]
  },
  {
   "cell_type": "raw",
   "metadata": {},
   "source": [
    "NOT: \n",
    "    kod1\n",
    "    kod2\n",
    "yukarida iki ayri kod farkli satirlarda calistirilabildigi gibi tek satirda aralarina ; koyarak da calistirilabilir\n",
    "    kod1; kod2"
   ]
  },
  {
   "cell_type": "markdown",
   "metadata": {},
   "source": [
    "25. liste yedegi uzerinde calismak:"
   ]
  },
  {
   "cell_type": "code",
   "execution_count": 1,
   "metadata": {
    "scrolled": true
   },
   "outputs": [
    {
     "name": "stdout",
     "output_type": "stream",
     "text": [
      "[12, 4, 6, 8, 10]\n",
      "[2, 4, 6, 8, 10]\n"
     ]
    }
   ],
   "source": [
    "listem = [2,4,6,8,10] \n",
    "\n",
    "listem_yedek = list(listem)\n",
    "\n",
    "# listem_yedek listesinin ilk elemeanini 12 ile degistiriniz\n",
    "listem_yedek[0] = 12\n",
    "\n",
    "# 'listem_yedek' ve 'listem' listelerini yazdiriniz.(orjinalinin degismedigini gozlemleyiniz)\n",
    "print(listem_yedek)\n",
    "print(listem)"
   ]
  },
  {
   "cell_type": "markdown",
   "metadata": {},
   "source": [
    "26. Asagidaki gibi bos hucre ekleyerek bu hucrelerde  \"Listeler\" ile ilgili karalama, test etme, uygulama, deneme-yanilma, farkli kombinasyonlari denemeler yapiniz:"
   ]
  },
  {
   "cell_type": "code",
   "execution_count": 85,
   "metadata": {},
   "outputs": [],
   "source": []
  },
  {
   "cell_type": "code",
   "execution_count": null,
   "metadata": {},
   "outputs": [],
   "source": []
  },
  {
   "cell_type": "code",
   "execution_count": null,
   "metadata": {},
   "outputs": [],
   "source": []
  },
  {
   "cell_type": "markdown",
   "metadata": {},
   "source": [
    "## Fonksiyonlar-Methodlar ve kutuphaneler"
   ]
  },
  {
   "cell_type": "markdown",
   "metadata": {},
   "source": [
    "27. print(), type(), len(), str(), float(), int(), bool() bunlar da birer fonksiyondur"
   ]
  },
  {
   "cell_type": "code",
   "execution_count": 87,
   "metadata": {},
   "outputs": [
    {
     "name": "stdout",
     "output_type": "stream",
     "text": [
      "<class 'list'>\n",
      "4\n"
     ]
    }
   ],
   "source": [
    "degisken1 = [1,2,3,4]\n",
    "degisken2 = True\n",
    "\n",
    "# degisken1 in veri tipini yazdiriniz\n",
    "print(type(degisken1))\n",
    "\n",
    "# degisken1 nin uzunlugunu yazdiriniz\n",
    "print(len(degisken1))\n",
    "\n",
    "# degisken2 yi int a cevirip 'sonuc' adiyla kaydediniz\n",
    "sonuc = int(degisken2)"
   ]
  },
  {
   "cell_type": "raw",
   "metadata": {},
   "source": [
    "help(ornek_fonksiyon) veya \n",
    "?ornek_fonksiyon \n",
    "ile ornek_fonksiyon adli bir fonksiyon hakkinda ayrintili bilgi alabilriz:"
   ]
  },
  {
   "cell_type": "code",
   "execution_count": 93,
   "metadata": {},
   "outputs": [],
   "source": [
    "# max fonksiyonunu bu sekilde inceleyiniz\n",
    "?max"
   ]
  },
  {
   "cell_type": "code",
   "execution_count": 94,
   "metadata": {},
   "outputs": [
    {
     "name": "stdout",
     "output_type": "stream",
     "text": [
      "Help on built-in function sum in module builtins:\n",
      "\n",
      "sum(iterable, start=0, /)\n",
      "    Return the sum of a 'start' value (default: 0) plus an iterable of numbers\n",
      "    \n",
      "    When the iterable is empty, return the start value.\n",
      "    This function is intended specifically for use with numeric values and may\n",
      "    reject non-numeric types.\n",
      "\n"
     ]
    }
   ],
   "source": [
    "# sum fonksiyonunu bu sekilde inceleyiniz\n",
    "help(sum)"
   ]
  },
  {
   "cell_type": "markdown",
   "metadata": {},
   "source": [
    "28. Fonksiyonlarda coklu arguman:"
   ]
  },
  {
   "cell_type": "code",
   "execution_count": 100,
   "metadata": {},
   "outputs": [
    {
     "name": "stdout",
     "output_type": "stream",
     "text": [
      "[1, 3, 5, 7, 9, 0, 2, 4, 6, 8]\n",
      "[0, 1, 2, 3, 4, 5, 6, 7, 8, 9]\n",
      "[9, 8, 7, 6, 5, 4, 3, 2, 1, 0]\n"
     ]
    }
   ],
   "source": [
    "tekler = [1,3,5,7,9]\n",
    "ciftler = [0,2,4,6,8]\n",
    "\n",
    "# iki listeyi + ile ekleyip rakamlar adiyla kaydediniz ve yazdiriniz \n",
    "rakamlar = tekler + ciftler\n",
    "print(rakamlar)\n",
    "\n",
    "# rakamlar listesini kucukten buyuge siralanmis halini rakamlar_sirali adiyla kaydediniz ve yazdiriniz\n",
    "rakamlar_sirali = sorted(rakamlar)\n",
    "print(rakamlar_sirali)\n",
    "\n",
    "# rakamlar listesini buyukten kucuge siralanmis halini rakamlar_sirali2 adiyla kaydediniz ve yazdiriniz (ipucu: reverse=True)\n",
    "rakamlar_sirali2 = sorted(rakamlar, reverse=True)\n",
    "print(rakamlar_sirali2)"
   ]
  },
  {
   "cell_type": "markdown",
   "metadata": {},
   "source": [
    "29. Methodlar:"
   ]
  },
  {
   "cell_type": "code",
   "execution_count": 102,
   "metadata": {},
   "outputs": [
    {
     "name": "stdout",
     "output_type": "stream",
     "text": [
      "veribilimiegitimi\n",
      "VERIBILIMIEGITIMI\n",
      "7\n"
     ]
    }
   ],
   "source": [
    "kurs = \"veribilimiegitimi\"\n",
    "\n",
    "# kurs string degiskenini .upper() metodu kullanarak buyuk harfli olarak kurs2 olarak kaydediniz\n",
    "kurs2 = kurs.upper()\n",
    "\n",
    "# kurs ve kurs2 yi yazdiriniz\n",
    "print(kurs)\n",
    "print(kurs2)\n",
    "\n",
    "# kurs string degiskeninde kac tane i harfi gectigini .count() methodu ile bulup yazdiriniz\n",
    "print(kurs.count('i'))"
   ]
  },
  {
   "cell_type": "markdown",
   "metadata": {},
   "source": [
    "30. liste metodlari: .index()  .count()"
   ]
  },
  {
   "cell_type": "code",
   "execution_count": 105,
   "metadata": {},
   "outputs": [
    {
     "name": "stdout",
     "output_type": "stream",
     "text": [
      "2\n",
      "2\n"
     ]
    }
   ],
   "source": [
    "alanlar = [14.2, 18, 20.1, 9.5, 9.5]\n",
    "\n",
    "# 20.1 degerinin index numarasini ilgili metod ile bulup yazdiriniz\n",
    "print(alanlar.index(20.1))\n",
    "\n",
    "# 9.5 degerinin kac defa gectigi yazdiriniz\n",
    "print(alanlar.count(9.5))"
   ]
  },
  {
   "cell_type": "markdown",
   "metadata": {},
   "source": [
    "31. liste metodlari: .append() .remove() .reverse()"
   ]
  },
  {
   "cell_type": "code",
   "execution_count": 109,
   "metadata": {},
   "outputs": [
    {
     "name": "stdout",
     "output_type": "stream",
     "text": [
      "[14.2, 18, 20.1, 9.5, 9.5, 23.7, 11.4]\n",
      "[11.4, 23.7, 9.5, 9.5, 20.1, 18, 14.2]\n"
     ]
    }
   ],
   "source": [
    "alanlar = [14.2, 18, 20.1, 9.5, 9.5]\n",
    "\n",
    "# alanlar listesine sirasiyla 23.7 ve 11.4 sayilarini ekleyiniz ve yazdiriniz\n",
    "alanlar.append(23.7)\n",
    "alanlar.append(11.4)\n",
    "print(alanlar)\n",
    "\n",
    "# alanlar listesinin eleman siralamasini tersine ceviriniz. (yeni bir degisken olarak atamayiniz)\n",
    "alanlar.reverse()\n",
    "\n",
    "# alanlar listesini tekrar yazdiriniz\n",
    "print(alanlar)"
   ]
  },
  {
   "cell_type": "markdown",
   "metadata": {},
   "source": [
    "32. Kutuphaneler: numpy, pandas, math ..."
   ]
  },
  {
   "cell_type": "code",
   "execution_count": 112,
   "metadata": {},
   "outputs": [
    {
     "name": "stdout",
     "output_type": "stream",
     "text": [
      "Cevresi: 2.827433388230814\n",
      "Alani: 0.6361725123519332\n"
     ]
    }
   ],
   "source": [
    "# dairenin yaricapi\n",
    "r = 0.45\n",
    "\n",
    "# math kutuphanesini aktif ediniz / cagiriniz / yukleyiniz, (kisaltma olarak: m)\n",
    "import math as m\n",
    "\n",
    "# dairenin cevresini bulunuz: C (C=2πr) \n",
    "C = 0\n",
    "C = 2 * m.pi * r\n",
    "\n",
    "# dairenin alanini bulunuz: A (A=πr^2)\n",
    "A = 0\n",
    "A = m.pi * r ** 2\n",
    "\n",
    "# yazdiralim:\n",
    "print(\"Cevresi: \" + str(C))\n",
    "print(\"Alani: \" + str(A))"
   ]
  },
  {
   "cell_type": "markdown",
   "metadata": {},
   "source": [
    "33. Kutuphaneden secili bir kismini import etmek:"
   ]
  },
  {
   "cell_type": "code",
   "execution_count": 113,
   "metadata": {},
   "outputs": [
    {
     "name": "stdout",
     "output_type": "stream",
     "text": [
      "40317.10572106901\n"
     ]
    }
   ],
   "source": [
    "# Ayin yari capi km olarak\n",
    "r = 192500\n",
    "\n",
    "# math kutuphanesinden sadece radians fonksoyonunu import ediniz\n",
    "from math import radians\n",
    "\n",
    "# Ayda 12 derece girmek kac km eder? (hesaplamasi konumuz degil) 'mesafe' olarak kaydedelim.\n",
    "mesafe = r * radians(12)\n",
    "\n",
    "# mesafe yi yazdiralim\n",
    "print(mesafe)"
   ]
  },
  {
   "cell_type": "markdown",
   "metadata": {},
   "source": [
    "34. BILGI: kutuphane import ederken 'as' ile kendi isimlendirmemizi yapabiliriz:"
   ]
  },
  {
   "cell_type": "code",
   "execution_count": 189,
   "metadata": {},
   "outputs": [],
   "source": [
    "# spicy kutuphanesinin alt kutuphansi olan linalg kutuphanesinden inv adli fonksiyonu import edelim:\n",
    "# (yeniden isimlendirme olarak my_inv adini kullanalim:)\n",
    "\n",
    "from scipy.linalg import inv as my_inv"
   ]
  },
  {
   "cell_type": "markdown",
   "metadata": {},
   "source": [
    "35. Asagidaki gibi bos hucre ekleyerek bu hucrelerde \"Fonksiyonlar-Methodlar ve Kutuphaneler\" ile ilgili karalama, test etme, uygulama, deneme-yanilma, farkli kombinasyonlari denemeler yapiniz:"
   ]
  },
  {
   "cell_type": "code",
   "execution_count": null,
   "metadata": {},
   "outputs": [],
   "source": []
  },
  {
   "cell_type": "code",
   "execution_count": null,
   "metadata": {},
   "outputs": [],
   "source": []
  },
  {
   "cell_type": "code",
   "execution_count": null,
   "metadata": {},
   "outputs": [],
   "source": []
  },
  {
   "cell_type": "markdown",
   "metadata": {},
   "source": [
    "## Sozluk (dictionary) Yapilari"
   ]
  },
  {
   "cell_type": "markdown",
   "metadata": {},
   "source": [
    "35. Hatirlayalim: \n",
    ".index() methodunu ulkeler listesinin uzerinde kullanarak 'germany' elemaninin indexini bulunuz. Bunu ind_almanya ismi ile kaydediniz.\n"
   ]
  },
  {
   "cell_type": "code",
   "execution_count": 2,
   "metadata": {},
   "outputs": [
    {
     "name": "stdout",
     "output_type": "stream",
     "text": [
      "berlin\n"
     ]
    }
   ],
   "source": [
    "ulkeler = ['ispanya', 'fransa', 'almanya', 'isvec']\n",
    "baskentler = ['madrid', 'paris', 'berlin', 'stockholm']\n",
    "\n",
    "# 'almanya' nin indeksini tanimlayiniz: ind_almanya\n",
    "ind_almanya = ulkeler.index('almanya')\n",
    "\n",
    "# ind_almanya degiskenini kullanarak Almanyanin baskentini print ile yazdiriniz\n",
    "print(baskentler[ind_almanya])"
   ]
  },
  {
   "cell_type": "markdown",
   "metadata": {},
   "source": [
    "36. Sozluk (dictionary) olusturalim: "
   ]
  },
  {
   "cell_type": "raw",
   "metadata": {},
   "source": [
    "my_dict = {\n",
    "   \"key1\":\"value1\",\n",
    "   \"key2\":\"value2\",\n",
    "}"
   ]
  },
  {
   "cell_type": "markdown",
   "metadata": {},
   "source": [
    "Asagida verilen listeleri, sozluk yapisinda yaziniz. sozlugun adi 'avrupa' key degerleri ulke ismi ve value ddegerleri basskentler olsun."
   ]
  },
  {
   "cell_type": "code",
   "execution_count": 5,
   "metadata": {},
   "outputs": [
    {
     "name": "stdout",
     "output_type": "stream",
     "text": [
      "{'ispanya': 'madrid', 'fransa': 'paris', 'almanya': 'berlin', 'isvec': 'stockholm'}\n"
     ]
    }
   ],
   "source": [
    "ulkeler = ['ispanya', 'fransa', 'almanya', 'isvec']\n",
    "baskentler = ['madrid', 'paris', 'berlin', 'stockholm']\n",
    "\n",
    "# sozlugu bu satirin altinda tanimlayiniz:\n",
    "avrupa = {  'ispanya':'madrid', 'fransa':'paris', 'almanya':'berlin', 'isvec':'stockholm'  }\n",
    "\n",
    "# Olusturdugunuz avrupa adindaku sozlugu yazdiriniz:\n",
    "print(avrupa)"
   ]
  },
  {
   "cell_type": "markdown",
   "metadata": {},
   "source": [
    "37. Sozluk elemanlarina ulasmak:"
   ]
  },
  {
   "cell_type": "raw",
   "metadata": {},
   "source": [
    "avrupa['fransa']"
   ]
  },
  {
   "cell_type": "code",
   "execution_count": 6,
   "metadata": {},
   "outputs": [
    {
     "name": "stdout",
     "output_type": "stream",
     "text": [
      "dict_keys(['ispanya', 'fransa', 'almanya', 'isvec'])\n",
      "stockholm\n"
     ]
    }
   ],
   "source": [
    "# .keys() method unu kullanarak yukaruda olusturdugunuz avrupa sozluk yapisinin keys denilen anahtar elemanlarini yazdiriniz\n",
    "print(avrupa.keys())\n",
    "\n",
    "# isvec in baskentini yazdiriniz\n",
    "print(avrupa['isvec'])"
   ]
  },
  {
   "cell_type": "markdown",
   "metadata": {},
   "source": [
    "38. Sozluk yapisinda islemler:"
   ]
  },
  {
   "cell_type": "code",
   "execution_count": 9,
   "metadata": {},
   "outputs": [
    {
     "name": "stdout",
     "output_type": "stream",
     "text": [
      "{'ispanya': 'madrid', 'fransa': 'paris', 'almanya': 'berlin', 'isvec': 'stockholm', 'italya': 'roma', 'polonya': 'varsova'}\n"
     ]
    }
   ],
   "source": [
    "# olusturdugunuz avrupa sozluk yapisina 'italya' ve baskenti 'roma' yi ekleyiniz: \n",
    "avrupa['italya'] = 'roma'\n",
    "\n",
    "# Polonya ve baskenti varsova yi da ekleyiniz\n",
    "avrupa['polonya'] ='varsova'\n",
    "\n",
    "# avrupa sozluk yapisini yazdiriniz\n",
    "print(avrupa)"
   ]
  },
  {
   "cell_type": "code",
   "execution_count": 10,
   "metadata": {},
   "outputs": [
    {
     "name": "stdout",
     "output_type": "stream",
     "text": [
      "True\n"
     ]
    }
   ],
   "source": [
    "# 'italya' avrupa sozlugunun icinde mi?\n",
    "print('italya' in avrupa)"
   ]
  },
  {
   "cell_type": "markdown",
   "metadata": {},
   "source": [
    "39. Sozlukte eleman guncellemek ve silmek"
   ]
  },
  {
   "cell_type": "code",
   "execution_count": 11,
   "metadata": {},
   "outputs": [
    {
     "name": "stdout",
     "output_type": "stream",
     "text": [
      "{'ispanya': 'madrid', 'fransa': 'paris', 'almanya': 'berlin', 'isvec': 'stockholm', 'italya': 'roma'}\n"
     ]
    }
   ],
   "source": [
    "avrupa = {'ispanya': 'madrid', 'fransa': 'paris', 'almanya': 'bonn', \n",
    "          'isvec': 'stockholm', 'italya': 'roma', 'polonya': 'varsova'}\n",
    "\n",
    "# almanyanin baskenti yanlis girilmis. 'berlin' ile degistiriniz\n",
    "avrupa['almanya'] = 'berlin'\n",
    "\n",
    "# polonya yi sozlukten siliniz\n",
    "del(avrupa['polonya'])\n",
    "\n",
    "#avrupa sozlugunun son halini yazdiriniz\n",
    "print(avrupa)"
   ]
  },
  {
   "cell_type": "markdown",
   "metadata": {},
   "source": [
    "40. Sozluk icinde sozluk:  elemanlari birer sozluk olan sozluk"
   ]
  },
  {
   "cell_type": "raw",
   "metadata": {},
   "source": [
    "avrupa['ispanya']['nufus']"
   ]
  },
  {
   "cell_type": "code",
   "execution_count": 20,
   "metadata": {},
   "outputs": [
    {
     "name": "stdout",
     "output_type": "stream",
     "text": [
      "{'ispanya': {'baskent': 'madrid', 'nufus': 46.77}, 'fransa': {'baskent': 'paris', 'nufus': 66.03}, 'almanya': {'baskent': 'berlin', 'nufus': 80.62}, 'isvec': {'baskent': 'stockholm', 'nufus': 10.84}, 'italya': {'baskent': 'roma', 'nufus': 59.83}}\n"
     ]
    }
   ],
   "source": [
    "avrupa = { 'ispanya': { 'baskent':'madrid', 'nufus':46.77 },\n",
    "           'fransa': { 'baskent':'paris', 'nufus':66.03 },\n",
    "           'almanya': { 'baskent':'berlin', 'nufus':80.62 },\n",
    "           'isvec': { 'baskent':'stockholm', 'nufus':10.84 } }\n",
    "\n",
    "# Fransanin baskentini yazdiriniz\n",
    "avrupa['fransa']['baskent']\n",
    "\n",
    "# bir ic-sozluk verisi olusturunuz\n",
    "veri = { 'baskent':'roma', 'nufus':59.83 }\n",
    "\n",
    "# bu veriyi 'italya' key adi ile sozluge ekleyiniz\n",
    "avrupa['italya'] = veri\n",
    "\n",
    "# avrupa sozlugunu yazdiriniz\n",
    "print(avrupa)"
   ]
  },
  {
   "cell_type": "markdown",
   "metadata": {},
   "source": [
    "Asagidaki gibi bos hucre ekleyerek bu hucrelerde \"Sozluk (dictionary) Yapilari\" ile ilgili karalama, test etme, uygulama, deneme-yanilma, farkli kombinasyonlari denemeler yapiniz:"
   ]
  },
  {
   "cell_type": "code",
   "execution_count": null,
   "metadata": {},
   "outputs": [],
   "source": []
  },
  {
   "cell_type": "code",
   "execution_count": null,
   "metadata": {},
   "outputs": [],
   "source": []
  },
  {
   "cell_type": "code",
   "execution_count": null,
   "metadata": {},
   "outputs": [],
   "source": []
  },
  {
   "cell_type": "markdown",
   "metadata": {},
   "source": [
    "## Mantik ve Kiyaslamalar"
   ]
  },
  {
   "cell_type": "markdown",
   "metadata": {},
   "source": [
    "41. esitlik:"
   ]
  },
  {
   "cell_type": "raw",
   "metadata": {},
   "source": [
    "2 == (1 + 1)\n",
    "\"intermediate\" != \"python\"\n",
    "True != False\n",
    "\"Python\" != \"python"
   ]
  },
  {
   "cell_type": "code",
   "execution_count": 17,
   "metadata": {},
   "outputs": [
    {
     "name": "stdout",
     "output_type": "stream",
     "text": [
      "False\n",
      "True\n"
     ]
    }
   ],
   "source": [
    "# True ile false esit midir\n",
    "print(True == False)\n",
    "\n",
    "# -5 carpi 25, 75 3 esit midir? \n",
    "print( -5 * 15 != 75 )"
   ]
  },
  {
   "cell_type": "code",
   "execution_count": 19,
   "metadata": {},
   "outputs": [
    {
     "name": "stdout",
     "output_type": "stream",
     "text": [
      "False\n",
      "True\n"
     ]
    }
   ],
   "source": [
    "# string kiyaslamasi: 'hello' ve 'Hello' esit midir\n",
    "print('hello' == 'Hello')\n",
    "\n",
    "# True ile 1 esit midir\n",
    "print( True == 1 )"
   ]
  },
  {
   "cell_type": "markdown",
   "metadata": {},
   "source": [
    "42. Kiyaslamalar:"
   ]
  },
  {
   "cell_type": "code",
   "execution_count": 43,
   "metadata": {},
   "outputs": [
    {
     "name": "stdout",
     "output_type": "stream",
     "text": [
      "False\n",
      "True\n",
      "True\n"
     ]
    }
   ],
   "source": [
    "# integer'larda kiyaslama: x degeri -11 den buyuk mudur print ile yazdiriniz\n",
    "x = -3 * 6\n",
    "print(x > -11)\n",
    "\n",
    "# strings'lerde kiyaslama: y string degiskeni ile 'test' degiskeninden kucuk veya esit midir\n",
    "y = \"test\"\n",
    "print( 'test' <= y)\n",
    "\n",
    "# boolean'larda kiyaslama: True False tan buyuk mudur\n",
    "print(True > False)"
   ]
  },
  {
   "cell_type": "markdown",
   "metadata": {},
   "source": [
    "## Kontrol islemleri"
   ]
  },
  {
   "cell_type": "markdown",
   "metadata": {},
   "source": [
    "43. if"
   ]
  },
  {
   "cell_type": "code",
   "execution_count": 3,
   "metadata": {},
   "outputs": [
    {
     "name": "stdout",
     "output_type": "stream",
     "text": [
      "mutfaktayim\n"
     ]
    }
   ],
   "source": [
    "yer = \"mutfak\"\n",
    "alan = 14.0\n",
    "\n",
    "# eger yer mutfak ise, \"mutfaktayim\" diye ekrana yazilsin\n",
    "if yer == \"mutfak\" :\n",
    "    print(\"mutfaktayim\")\n",
    "\n",
    "# Eger alan 15 ten buyuk ise \"buyuk mutfak!\"\n",
    "if alan > 15:\n",
    "    print(\"buyuk mutfak!\")"
   ]
  },
  {
   "cell_type": "markdown",
   "metadata": {},
   "source": [
    "44. else"
   ]
  },
  {
   "cell_type": "code",
   "execution_count": 6,
   "metadata": {},
   "outputs": [
    {
     "name": "stdout",
     "output_type": "stream",
     "text": [
      "mutfaktayim\n",
      "Mutfak dar!\n"
     ]
    }
   ],
   "source": [
    "yer = \"mutfak\"  # burda tekrar tanimlamaya gerek yok normalde, gozonunde olsun diye yine de yazalim. \n",
    "alan = 14.0\n",
    "\n",
    "# yukaridaki if kod satirlarini editleyip, eger mutfakta degil isek, \"odadayim\" yazdirilsin\n",
    "if yer == \"mutfak\" :\n",
    "    print(\"mutfaktayim\")\n",
    "else :\n",
    "    print(\"odadayim\")\n",
    "\n",
    "# yukaridaki if kod satirlarini editleyip, eger alan 15ten kucuk ise \"Mutfak dar!\" yazdirilsin\n",
    "if alan > 15:\n",
    "    print(\"buyuk mutfak!\")\n",
    "else:\n",
    "    print(\"Mutfak dar!\")"
   ]
  },
  {
   "cell_type": "markdown",
   "metadata": {},
   "source": [
    "## Donguler (while, for... )"
   ]
  },
  {
   "cell_type": "markdown",
   "metadata": {},
   "source": [
    "45. while"
   ]
  },
  {
   "cell_type": "code",
   "execution_count": 10,
   "metadata": {},
   "outputs": [
    {
     "name": "stdout",
     "output_type": "stream",
     "text": [
      "dogrulaniyor...\n",
      "4\n",
      "dogrulaniyor...\n",
      "3\n",
      "dogrulaniyor...\n",
      "2\n",
      "dogrulaniyor...\n",
      "1\n",
      "dogrulaniyor...\n",
      "0\n"
     ]
    }
   ],
   "source": [
    "durum = 5\n",
    "\n",
    "# while ile dongu olusturunuz, \n",
    "# durum degiskeni 0 olana kadar ekrana \"dogrulaniyor...\" ve durum degiskeninin degerini altalta gelecek sekilde yazdirilip \n",
    "# durum degiskenini 1 azaltiniz\n",
    "while durum != 0:\n",
    "    print(\"dogrulaniyor...\")\n",
    "    durum -=1\n",
    "    print(durum)"
   ]
  },
  {
   "cell_type": "markdown",
   "metadata": {},
   "source": [
    "46. for"
   ]
  },
  {
   "cell_type": "code",
   "execution_count": 11,
   "metadata": {},
   "outputs": [
    {
     "name": "stdout",
     "output_type": "stream",
     "text": [
      "11.25\n",
      "18.0\n",
      "20.0\n",
      "10.75\n",
      "9.5\n"
     ]
    }
   ],
   "source": [
    "# alanlar listesi\n",
    "alanlar = [11.25, 18.0, 20.0, 10.75, 9.50]\n",
    "\n",
    "# for dongusu ole alanlar listesinin elemanlarini yazdiriniz\n",
    "for a in alanlar:\n",
    "    print(a)"
   ]
  },
  {
   "cell_type": "code",
   "execution_count": 16,
   "metadata": {},
   "outputs": [],
   "source": [
    "# ev: liste icinde listeler seklinde.\n",
    "ev = [[\"koridor\", 11.25], \n",
    "         [\"mutfak\", 18.0], \n",
    "         [\"oda1\", 20.0], \n",
    "         [\"oda2\", 10.75], \n",
    "         [\"banyo\", 9.50]]"
   ]
  },
  {
   "cell_type": "raw",
   "metadata": {},
   "source": [
    "koridor: 11.25 metrekare\n",
    "mutfak: 18.0 metrekare\n",
    "oda1: 20.0 metrekare\n",
    "oda2: 10.75 metrekare\n",
    "banyo: 9.5 metrekare"
   ]
  },
  {
   "cell_type": "code",
   "execution_count": 18,
   "metadata": {},
   "outputs": [
    {
     "name": "stdout",
     "output_type": "stream",
     "text": [
      "koridor: 11.25 metrekare\n",
      "mutfak: 18.0 metrekare\n",
      "oda1: 20.0 metrekare\n",
      "oda2: 10.75 metrekare\n",
      "banyo: 9.5 metrekare\n"
     ]
    }
   ],
   "source": [
    "# Yukari ciktiyi veren for dongusunu yaziniz\n",
    "for yer in ev:\n",
    "    print(yer[0] + \": \"+ str(yer[1]) + \" metrekare\")"
   ]
  },
  {
   "cell_type": "markdown",
   "metadata": {},
   "source": [
    "47. Sozluklerde for"
   ]
  },
  {
   "cell_type": "code",
   "execution_count": 40,
   "metadata": {},
   "outputs": [],
   "source": [
    "# bir sozluk \n",
    "avrupa = {'ispanya':'madrid','isvec':'stockholm', 'fransa':'paris', 'almanya':'berlin' }"
   ]
  },
  {
   "cell_type": "raw",
   "metadata": {},
   "source": [
    "ispanya ulkesinin baskenti: madrid\n",
    "isvec ulkesinin baskenti: stockholm\n",
    "fransa ulkesinin baskenti: paris\n",
    "almanya ulkesinin baskenti: berlin"
   ]
  },
  {
   "cell_type": "code",
   "execution_count": 41,
   "metadata": {},
   "outputs": [
    {
     "name": "stdout",
     "output_type": "stream",
     "text": [
      "ispanya ulkesinin baskenti: madrid\n",
      "isvec ulkesinin baskenti: stockholm\n",
      "fransa ulkesinin baskenti: paris\n",
      "almanya ulkesinin baskenti: berlin\n"
     ]
    }
   ],
   "source": [
    "# avrupa sozluk yapisina .items() methodunu uygulayarak, for dongu ile yukaridaki ciktiyi yazdiriniz. \n",
    "# iki degisken kullanmalisiniz\n",
    "for k,v in avrupa.items():\n",
    "    print(k + \" ulkesinin baskenti: \" + v)"
   ]
  },
  {
   "cell_type": "markdown",
   "metadata": {},
   "source": [
    "48."
   ]
  },
  {
   "cell_type": "markdown",
   "metadata": {},
   "source": [
    "Asagidaki gibi bos hucre ekleyerek bu hucrelerde 41. sorudan sonrasi ile ilgili karalama, test etme, uygulama, deneme-yanilma, farkli kombinasyonlari denemeler yapiniz:"
   ]
  },
  {
   "cell_type": "code",
   "execution_count": null,
   "metadata": {},
   "outputs": [],
   "source": []
  },
  {
   "cell_type": "code",
   "execution_count": null,
   "metadata": {},
   "outputs": [],
   "source": []
  },
  {
   "cell_type": "code",
   "execution_count": null,
   "metadata": {},
   "outputs": [],
   "source": []
  }
 ],
 "metadata": {
  "kernelspec": {
   "display_name": "Python 3",
   "language": "python",
   "name": "python3"
  },
  "language_info": {
   "codemirror_mode": {
    "name": "ipython",
    "version": 3
   },
   "file_extension": ".py",
   "mimetype": "text/x-python",
   "name": "python",
   "nbconvert_exporter": "python",
   "pygments_lexer": "ipython3",
   "version": "3.7.4"
  }
 },
 "nbformat": 4,
 "nbformat_minor": 4
}
